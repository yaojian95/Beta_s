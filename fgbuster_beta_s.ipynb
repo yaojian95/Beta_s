{
 "cells": [
  {
   "cell_type": "code",
   "execution_count": 23,
   "id": "49005525-1d54-440a-8b17-e58ee975bc3b",
   "metadata": {
    "execution": {
     "iopub.execute_input": "2021-08-18T21:19:08.909646Z",
     "iopub.status.busy": "2021-08-18T21:19:08.909006Z",
     "iopub.status.idle": "2021-08-18T21:19:08.947978Z",
     "shell.execute_reply": "2021-08-18T21:19:08.946868Z",
     "shell.execute_reply.started": "2021-08-18T21:19:08.909584Z"
    },
    "tags": []
   },
   "outputs": [],
   "source": [
    "%matplotlib inline\n",
    "%config Completer.use_jedi = False\n",
    "\n",
    "import numpy as np\n",
    "import pylab\n",
    "pylab.rcParams['figure.figsize'] = 12, 16\n",
    "\n",
    "import matplotlib.pyplot as plt\n",
    "\n",
    "import healpy as hp\n",
    "import pysm3\n",
    "import pysm3.units as u\n",
    "\n",
    "from scipy.stats.mstats import gmean\n",
    "\n",
    "from fgbuster import get_instrument, get_sky, get_observation  # Predefined instrumental and sky-creation configurations\n",
    "import fgbuster.separation_recipes as sr\n",
    "\n",
    "# Imports needed for component separation\n",
    "from fgbuster import (CMB, Dust, Synchrotron,  # sky-fitting model\n",
    "                      MixingMatrix, basic_comp_sep)  # separation routine\n",
    "\n",
    "from utilities import Mask"
   ]
  },
  {
   "cell_type": "code",
   "execution_count": 28,
   "id": "d2841a4e-df33-4f28-9970-37cdb27f4b9b",
   "metadata": {
    "execution": {
     "iopub.execute_input": "2021-08-18T21:21:55.595294Z",
     "iopub.status.busy": "2021-08-18T21:21:55.594599Z",
     "iopub.status.idle": "2021-08-18T21:21:59.279038Z",
     "shell.execute_reply": "2021-08-18T21:21:59.277553Z",
     "shell.execute_reply.started": "2021-08-18T21:21:55.595248Z"
    },
    "tags": []
   },
   "outputs": [],
   "source": [
    "from cmbdb import cmbdb\n",
    "import pandas as pd\n",
    "import time\n",
    "from fgbuster.visualization import corner_norm"
   ]
  },
  {
   "cell_type": "code",
   "execution_count": 4,
   "id": "9f405b6a-5c0f-4574-a745-7a52dbed4438",
   "metadata": {
    "execution": {
     "iopub.execute_input": "2021-08-18T21:12:55.844049Z",
     "iopub.status.busy": "2021-08-18T21:12:55.843676Z",
     "iopub.status.idle": "2021-08-18T21:12:55.893379Z",
     "shell.execute_reply": "2021-08-18T21:12:55.860982Z",
     "shell.execute_reply.started": "2021-08-18T21:12:55.844001Z"
    },
    "tags": []
   },
   "outputs": [],
   "source": [
    "import warnings\n",
    "warnings.filterwarnings(\"ignore\")"
   ]
  },
  {
   "cell_type": "code",
   "execution_count": 43,
   "id": "6d2199aa-2c1e-4b65-b5cb-ad98826ff1b3",
   "metadata": {
    "execution": {
     "iopub.execute_input": "2021-08-18T21:34:53.174935Z",
     "iopub.status.busy": "2021-08-18T21:34:53.174502Z",
     "iopub.status.idle": "2021-08-18T21:34:53.184411Z",
     "shell.execute_reply": "2021-08-18T21:34:53.183174Z",
     "shell.execute_reply.started": "2021-08-18T21:34:53.174887Z"
    }
   },
   "outputs": [],
   "source": [
    "from utilities import Mask"
   ]
  },
  {
   "cell_type": "markdown",
   "id": "d093a69b-1ab6-4af9-8477-adad1ecfb95e",
   "metadata": {},
   "source": [
    "# import data"
   ]
  },
  {
   "cell_type": "code",
   "execution_count": 5,
   "id": "c21a5d3e-6c8a-4599-8609-728ec5ac4ba9",
   "metadata": {
    "execution": {
     "iopub.execute_input": "2021-08-18T21:13:07.186900Z",
     "iopub.status.busy": "2021-08-18T21:13:07.186516Z",
     "iopub.status.idle": "2021-08-18T21:13:07.198746Z",
     "shell.execute_reply": "2021-08-18T21:13:07.197509Z",
     "shell.execute_reply.started": "2021-08-18T21:13:07.186857Z"
    },
    "tags": []
   },
   "outputs": [],
   "source": [
    "fres = np.array([2.3, 5, 23, 28, 33]); nu0 = gmean(fres); nside = 32"
   ]
  },
  {
   "cell_type": "code",
   "execution_count": 6,
   "id": "2befe028-495e-4332-90ec-fd43d83ea706",
   "metadata": {
    "execution": {
     "iopub.execute_input": "2021-08-18T21:13:07.832830Z",
     "iopub.status.busy": "2021-08-18T21:13:07.832124Z",
     "iopub.status.idle": "2021-08-18T21:13:08.088549Z",
     "shell.execute_reply": "2021-08-18T21:13:08.087408Z",
     "shell.execute_reply.started": "2021-08-18T21:13:07.832779Z"
    },
    "tags": []
   },
   "outputs": [],
   "source": [
    "total_IQU = np.load('/global/cscratch1/sd/jianyao/CBASS/Observations/homo_noise/total_IQU_s0_%s_uK_RJ_000.npy'%nside)#/1000 ## from uK to mK\n",
    "total_sigma = np.load('/global/cscratch1/sd/jianyao/CBASS/Noise/homo_noise/5_fre_sigma_P_%s_uK_RJ.npy'%nside)#/1000 ## from uK to mK\n",
    "P_nu0 = np.load('/global/cscratch1/sd/jianyao/CBASS/Foreground/P_11.99_s0_32_uK_RJ.npy')#/1000\n",
    "\n",
    "mask_both = np.load('/global/cscratch1/sd/jianyao/CBASS/mask_both_%s.npy'%nside)\n",
    "mask_index = np.load('/global/cscratch1/sd/jianyao/CBASS/masked_index.npy')"
   ]
  },
  {
   "cell_type": "markdown",
   "id": "3218fbd8-a469-40af-b5ab-9dc0aa9d1ef7",
   "metadata": {},
   "source": [
    "`numpy.delete(arr, obj, axis=None)`\n",
    "- arr: Input array\n",
    "- obj: Row or column number to delete\n",
    "- axis: Axis to delete"
   ]
  },
  {
   "cell_type": "code",
   "execution_count": 48,
   "id": "182f8f15-3ef9-4d7f-b5dd-95df722882b4",
   "metadata": {
    "execution": {
     "iopub.execute_input": "2021-08-18T21:36:26.422175Z",
     "iopub.status.busy": "2021-08-18T21:36:26.421901Z",
     "iopub.status.idle": "2021-08-18T21:36:26.432732Z",
     "shell.execute_reply": "2021-08-18T21:36:26.432028Z",
     "shell.execute_reply.started": "2021-08-18T21:36:26.422145Z"
    },
    "tags": []
   },
   "outputs": [],
   "source": [
    "#Note: input maps should have the mask applied\n",
    "total_QU = Mask(total_IQU[:, 1:], mask_both)\n",
    "cbass_only = Mask(total_IQU[1:,1:], mask_both)\n",
    "spass_only = Mask(np.delete(total_IQU, 1, 0)[:,1:], mask_both)"
   ]
  },
  {
   "cell_type": "code",
   "execution_count": 51,
   "id": "bd552084-fc13-4e6f-9d3f-5cb0677904c7",
   "metadata": {
    "execution": {
     "iopub.execute_input": "2021-08-18T21:39:07.199344Z",
     "iopub.status.busy": "2021-08-18T21:39:07.198901Z",
     "iopub.status.idle": "2021-08-18T21:39:07.215117Z",
     "shell.execute_reply": "2021-08-18T21:39:07.214273Z",
     "shell.execute_reply.started": "2021-08-18T21:39:07.199294Z"
    },
    "tags": []
   },
   "outputs": [],
   "source": [
    "instrument = pd.DataFrame()\n",
    "instrument['frequency'] = fres\n",
    "instrument['depth_p'] = np.array(([8068.89702552, 4497.09426442,  429.10255891,  270.31923344, 423.93603191]))\n",
    "# instrument['depth_i'] = (np.linspace(20, 40, 10) - 30)**2"
   ]
  },
  {
   "cell_type": "code",
   "execution_count": 52,
   "id": "007256c2-1712-405f-a22b-3a49ab391e56",
   "metadata": {
    "execution": {
     "iopub.execute_input": "2021-08-18T21:39:08.468034Z",
     "iopub.status.busy": "2021-08-18T21:39:08.467588Z",
     "iopub.status.idle": "2021-08-18T21:39:08.483116Z",
     "shell.execute_reply": "2021-08-18T21:39:08.481893Z",
     "shell.execute_reply.started": "2021-08-18T21:39:08.467984Z"
    },
    "tags": []
   },
   "outputs": [],
   "source": [
    "instru_cbass = instrument.drop(0)\n",
    "instru_spass = instrument.drop(1)"
   ]
  },
  {
   "cell_type": "code",
   "execution_count": 53,
   "id": "f6088bb1-8a2d-4fc6-8864-8d73c0420cdf",
   "metadata": {
    "execution": {
     "iopub.execute_input": "2021-08-18T21:39:09.255394Z",
     "iopub.status.busy": "2021-08-18T21:39:09.254693Z",
     "iopub.status.idle": "2021-08-18T21:39:09.274727Z",
     "shell.execute_reply": "2021-08-18T21:39:09.273467Z",
     "shell.execute_reply.started": "2021-08-18T21:39:09.255347Z"
    },
    "tags": []
   },
   "outputs": [
    {
     "data": {
      "text/html": [
       "<div>\n",
       "<style scoped>\n",
       "    .dataframe tbody tr th:only-of-type {\n",
       "        vertical-align: middle;\n",
       "    }\n",
       "\n",
       "    .dataframe tbody tr th {\n",
       "        vertical-align: top;\n",
       "    }\n",
       "\n",
       "    .dataframe thead th {\n",
       "        text-align: right;\n",
       "    }\n",
       "</style>\n",
       "<table border=\"1\" class=\"dataframe\">\n",
       "  <thead>\n",
       "    <tr style=\"text-align: right;\">\n",
       "      <th></th>\n",
       "      <th>frequency</th>\n",
       "      <th>depth_p</th>\n",
       "    </tr>\n",
       "  </thead>\n",
       "  <tbody>\n",
       "    <tr>\n",
       "      <th>0</th>\n",
       "      <td>2.3</td>\n",
       "      <td>8068.897026</td>\n",
       "    </tr>\n",
       "    <tr>\n",
       "      <th>1</th>\n",
       "      <td>5.0</td>\n",
       "      <td>4497.094264</td>\n",
       "    </tr>\n",
       "    <tr>\n",
       "      <th>2</th>\n",
       "      <td>23.0</td>\n",
       "      <td>429.102559</td>\n",
       "    </tr>\n",
       "    <tr>\n",
       "      <th>3</th>\n",
       "      <td>28.0</td>\n",
       "      <td>270.319233</td>\n",
       "    </tr>\n",
       "    <tr>\n",
       "      <th>4</th>\n",
       "      <td>33.0</td>\n",
       "      <td>423.936032</td>\n",
       "    </tr>\n",
       "  </tbody>\n",
       "</table>\n",
       "</div>"
      ],
      "text/plain": [
       "   frequency      depth_p\n",
       "0        2.3  8068.897026\n",
       "1        5.0  4497.094264\n",
       "2       23.0   429.102559\n",
       "3       28.0   270.319233\n",
       "4       33.0   423.936032"
      ]
     },
     "execution_count": 53,
     "metadata": {},
     "output_type": "execute_result"
    }
   ],
   "source": [
    "instrument"
   ]
  },
  {
   "cell_type": "code",
   "execution_count": 54,
   "id": "bfbcae18-0251-4f7c-91fc-88e7203696f5",
   "metadata": {
    "execution": {
     "iopub.execute_input": "2021-08-18T21:39:10.202948Z",
     "iopub.status.busy": "2021-08-18T21:39:10.202638Z",
     "iopub.status.idle": "2021-08-18T21:39:10.213636Z",
     "shell.execute_reply": "2021-08-18T21:39:10.212717Z",
     "shell.execute_reply.started": "2021-08-18T21:39:10.202917Z"
    },
    "tags": []
   },
   "outputs": [
    {
     "data": {
      "text/html": [
       "<div>\n",
       "<style scoped>\n",
       "    .dataframe tbody tr th:only-of-type {\n",
       "        vertical-align: middle;\n",
       "    }\n",
       "\n",
       "    .dataframe tbody tr th {\n",
       "        vertical-align: top;\n",
       "    }\n",
       "\n",
       "    .dataframe thead th {\n",
       "        text-align: right;\n",
       "    }\n",
       "</style>\n",
       "<table border=\"1\" class=\"dataframe\">\n",
       "  <thead>\n",
       "    <tr style=\"text-align: right;\">\n",
       "      <th></th>\n",
       "      <th>frequency</th>\n",
       "      <th>depth_p</th>\n",
       "    </tr>\n",
       "  </thead>\n",
       "  <tbody>\n",
       "    <tr>\n",
       "      <th>1</th>\n",
       "      <td>5.0</td>\n",
       "      <td>4497.094264</td>\n",
       "    </tr>\n",
       "    <tr>\n",
       "      <th>2</th>\n",
       "      <td>23.0</td>\n",
       "      <td>429.102559</td>\n",
       "    </tr>\n",
       "    <tr>\n",
       "      <th>3</th>\n",
       "      <td>28.0</td>\n",
       "      <td>270.319233</td>\n",
       "    </tr>\n",
       "    <tr>\n",
       "      <th>4</th>\n",
       "      <td>33.0</td>\n",
       "      <td>423.936032</td>\n",
       "    </tr>\n",
       "  </tbody>\n",
       "</table>\n",
       "</div>"
      ],
      "text/plain": [
       "   frequency      depth_p\n",
       "1        5.0  4497.094264\n",
       "2       23.0   429.102559\n",
       "3       28.0   270.319233\n",
       "4       33.0   423.936032"
      ]
     },
     "execution_count": 54,
     "metadata": {},
     "output_type": "execute_result"
    }
   ],
   "source": [
    "instru_cbass"
   ]
  },
  {
   "cell_type": "code",
   "execution_count": 55,
   "id": "8308c99b-2166-49c6-8d5d-e696a5c44ec2",
   "metadata": {
    "execution": {
     "iopub.execute_input": "2021-08-18T21:39:11.191365Z",
     "iopub.status.busy": "2021-08-18T21:39:11.190869Z",
     "iopub.status.idle": "2021-08-18T21:39:11.214706Z",
     "shell.execute_reply": "2021-08-18T21:39:11.213407Z",
     "shell.execute_reply.started": "2021-08-18T21:39:11.191313Z"
    },
    "tags": []
   },
   "outputs": [
    {
     "data": {
      "text/html": [
       "<div>\n",
       "<style scoped>\n",
       "    .dataframe tbody tr th:only-of-type {\n",
       "        vertical-align: middle;\n",
       "    }\n",
       "\n",
       "    .dataframe tbody tr th {\n",
       "        vertical-align: top;\n",
       "    }\n",
       "\n",
       "    .dataframe thead th {\n",
       "        text-align: right;\n",
       "    }\n",
       "</style>\n",
       "<table border=\"1\" class=\"dataframe\">\n",
       "  <thead>\n",
       "    <tr style=\"text-align: right;\">\n",
       "      <th></th>\n",
       "      <th>frequency</th>\n",
       "      <th>depth_p</th>\n",
       "    </tr>\n",
       "  </thead>\n",
       "  <tbody>\n",
       "    <tr>\n",
       "      <th>0</th>\n",
       "      <td>2.3</td>\n",
       "      <td>8068.897026</td>\n",
       "    </tr>\n",
       "    <tr>\n",
       "      <th>2</th>\n",
       "      <td>23.0</td>\n",
       "      <td>429.102559</td>\n",
       "    </tr>\n",
       "    <tr>\n",
       "      <th>3</th>\n",
       "      <td>28.0</td>\n",
       "      <td>270.319233</td>\n",
       "    </tr>\n",
       "    <tr>\n",
       "      <th>4</th>\n",
       "      <td>33.0</td>\n",
       "      <td>423.936032</td>\n",
       "    </tr>\n",
       "  </tbody>\n",
       "</table>\n",
       "</div>"
      ],
      "text/plain": [
       "   frequency      depth_p\n",
       "0        2.3  8068.897026\n",
       "2       23.0   429.102559\n",
       "3       28.0   270.319233\n",
       "4       33.0   423.936032"
      ]
     },
     "execution_count": 55,
     "metadata": {},
     "output_type": "execute_result"
    }
   ],
   "source": [
    "instru_spass"
   ]
  },
  {
   "cell_type": "code",
   "execution_count": 56,
   "id": "d4d592da-e016-456f-a447-fca6d8faa181",
   "metadata": {
    "execution": {
     "iopub.execute_input": "2021-08-18T21:39:41.191275Z",
     "iopub.status.busy": "2021-08-18T21:39:41.190793Z",
     "iopub.status.idle": "2021-08-18T21:39:41.265336Z",
     "shell.execute_reply": "2021-08-18T21:39:41.257428Z",
     "shell.execute_reply.started": "2021-08-18T21:39:41.191224Z"
    },
    "tags": []
   },
   "outputs": [
    {
     "data": {
      "text/plain": [
       "793.1305589244157*(0.0434782608695652*nu)**beta_pl*expm1(0.01760867023799751*nu)**2*exp(-0.01760867023799751*nu)/(nu**2*expm1(0.4049994154739427)**2)"
      ]
     },
     "execution_count": 56,
     "metadata": {},
     "output_type": "execute_result"
    }
   ],
   "source": [
    "Synchrotron(23.)"
   ]
  },
  {
   "cell_type": "code",
   "execution_count": 57,
   "id": "557909f6-9333-4a52-a09e-a0f55ae94de0",
   "metadata": {
    "execution": {
     "iopub.execute_input": "2021-08-18T21:39:42.191107Z",
     "iopub.status.busy": "2021-08-18T21:39:42.190699Z",
     "iopub.status.idle": "2021-08-18T21:39:42.226066Z",
     "shell.execute_reply": "2021-08-18T21:39:42.224885Z",
     "shell.execute_reply.started": "2021-08-18T21:39:42.191064Z"
    },
    "tags": []
   },
   "outputs": [],
   "source": [
    "components = [Synchrotron(23.)]"
   ]
  },
  {
   "cell_type": "code",
   "execution_count": 58,
   "id": "9a817317-9309-44e9-accb-674cff5b5b9a",
   "metadata": {
    "execution": {
     "iopub.execute_input": "2021-08-18T21:39:43.695429Z",
     "iopub.status.busy": "2021-08-18T21:39:43.694968Z",
     "iopub.status.idle": "2021-08-18T21:39:43.706518Z",
     "shell.execute_reply": "2021-08-18T21:39:43.705406Z",
     "shell.execute_reply.started": "2021-08-18T21:39:43.695377Z"
    },
    "tags": []
   },
   "outputs": [],
   "source": [
    "# The starting point of the fit is the pysm default value, so let's shift it\n",
    "\n",
    "components[0].defaults = [-2.7]"
   ]
  },
  {
   "cell_type": "code",
   "execution_count": 59,
   "id": "4770a5f6-1441-4980-968f-915ac2f90179",
   "metadata": {
    "execution": {
     "iopub.execute_input": "2021-08-18T21:39:45.427084Z",
     "iopub.status.busy": "2021-08-18T21:39:45.426238Z",
     "iopub.status.idle": "2021-08-18T21:39:45.436407Z",
     "shell.execute_reply": "2021-08-18T21:39:45.435291Z",
     "shell.execute_reply.started": "2021-08-18T21:39:45.427029Z"
    },
    "tags": []
   },
   "outputs": [
    {
     "data": {
      "text/plain": [
       "793.1305589244157*(0.0434782608695652*nu)**beta_pl*expm1(0.01760867023799751*nu)**2*exp(-0.01760867023799751*nu)/(nu**2*expm1(0.4049994154739427)**2)"
      ]
     },
     "execution_count": 59,
     "metadata": {},
     "output_type": "execute_result"
    }
   ],
   "source": [
    "components[0]"
   ]
  },
  {
   "cell_type": "code",
   "execution_count": 60,
   "id": "277c73fd-c5cd-46c1-abdf-9100b5ad6ef8",
   "metadata": {
    "execution": {
     "iopub.execute_input": "2021-08-18T21:39:51.227570Z",
     "iopub.status.busy": "2021-08-18T21:39:51.226849Z",
     "iopub.status.idle": "2021-08-18T21:40:28.709627Z",
     "shell.execute_reply": "2021-08-18T21:40:28.701660Z",
     "shell.execute_reply.started": "2021-08-18T21:39:51.227514Z"
    },
    "tags": []
   },
   "outputs": [],
   "source": [
    "result_both = basic_comp_sep(components, instrument, total_QU, nside = nside)"
   ]
  },
  {
   "cell_type": "code",
   "execution_count": 63,
   "id": "c91c0890-3afb-40e1-99a7-d583542d56f7",
   "metadata": {
    "execution": {
     "iopub.execute_input": "2021-08-18T21:42:02.768389Z",
     "iopub.status.busy": "2021-08-18T21:42:02.767690Z",
     "iopub.status.idle": "2021-08-18T21:42:02.778083Z",
     "shell.execute_reply": "2021-08-18T21:42:02.775600Z",
     "shell.execute_reply.started": "2021-08-18T21:42:02.768340Z"
    },
    "tags": []
   },
   "outputs": [
    {
     "data": {
      "text/plain": [
       "(1, 12288)"
      ]
     },
     "execution_count": 63,
     "metadata": {},
     "output_type": "execute_result"
    }
   ],
   "source": [
    "result_both.x.shape"
   ]
  },
  {
   "cell_type": "code",
   "execution_count": 61,
   "id": "ecd2f527-a12d-4d80-98cc-0152208e70ae",
   "metadata": {
    "execution": {
     "iopub.execute_input": "2021-08-18T21:40:28.718804Z",
     "iopub.status.busy": "2021-08-18T21:40:28.718305Z",
     "iopub.status.idle": "2021-08-18T21:41:36.765405Z",
     "shell.execute_reply": "2021-08-18T21:41:36.749528Z",
     "shell.execute_reply.started": "2021-08-18T21:40:28.718752Z"
    },
    "tags": []
   },
   "outputs": [
    {
     "name": "stdout",
     "output_type": "stream",
     "text": [
      "0.6271742900212606\n",
      "0.5064096490542094\n"
     ]
    }
   ],
   "source": [
    "s = time.time()\n",
    "result_spass = basic_comp_sep(components, instru_spass, spass_only, nside = nside)\n",
    "e = time.time()\n",
    "print((e-s)/60)\n",
    "result_cbass = basic_comp_sep(components, instru_cbass, cbass_only, nside = nside)\n",
    "s = time.time()\n",
    "print((s-e)/60)"
   ]
  },
  {
   "cell_type": "code",
   "execution_count": 65,
   "id": "3b6ec712-e590-429f-adbe-606a4169bf02",
   "metadata": {
    "execution": {
     "iopub.execute_input": "2021-08-18T21:42:34.387464Z",
     "iopub.status.busy": "2021-08-18T21:42:34.386574Z",
     "iopub.status.idle": "2021-08-18T21:42:34.395887Z",
     "shell.execute_reply": "2021-08-18T21:42:34.394689Z",
     "shell.execute_reply.started": "2021-08-18T21:42:34.387413Z"
    }
   },
   "outputs": [
    {
     "data": {
      "text/plain": [
       "array([-1.6375e+30, -1.6375e+30, -1.6375e+30, ..., -1.6375e+30,\n",
       "       -1.6375e+30, -1.6375e+30])"
      ]
     },
     "execution_count": 65,
     "metadata": {},
     "output_type": "execute_result"
    }
   ],
   "source": [
    "result_both.x[0]"
   ]
  },
  {
   "cell_type": "code",
   "execution_count": 64,
   "id": "5cc40bec-a95e-454a-9543-54eb51cee3a4",
   "metadata": {
    "execution": {
     "iopub.execute_input": "2021-08-18T21:42:05.329054Z",
     "iopub.status.busy": "2021-08-18T21:42:05.328751Z",
     "iopub.status.idle": "2021-08-18T21:42:05.813904Z",
     "shell.execute_reply": "2021-08-18T21:42:05.810887Z",
     "shell.execute_reply.started": "2021-08-18T21:42:05.329023Z"
    },
    "tags": []
   },
   "outputs": [
    {
     "data": {
      "image/png": "[encoded data removed]",
      "text/plain": [
       "<Figure size 612x388.8 with 2 Axes>"
      ]
     },
     "metadata": {
      "needs_background": "light"
     },
     "output_type": "display_data"
    }
   ],
   "source": [
    "hp.mollview(result_both.x[0], min = -4, cmap = 'coolwarm')"
   ]
  },
  {
   "cell_type": "code",
   "execution_count": 79,
   "id": "4cd1b8c1-0828-44df-839e-2b2ff33c31d4",
   "metadata": {
    "execution": {
     "iopub.execute_input": "2021-08-11T14:28:50.211192Z",
     "iopub.status.busy": "2021-08-11T14:28:50.210922Z",
     "iopub.status.idle": "2021-08-11T14:28:50.216051Z",
     "shell.execute_reply": "2021-08-11T14:28:50.215425Z",
     "shell.execute_reply.started": "2021-08-11T14:28:50.211164Z"
    },
    "tags": []
   },
   "outputs": [],
   "source": [
    "bins = np.array([-3.39222617, -3.36484438, -3.3374626 , -3.31008081, -3.28269903,\n",
    "       -3.25531724, -3.22793546, -3.20055367, -3.17317189, -3.1457901 ,\n",
    "       -3.11840832, -3.09102653, -3.06364475, -3.03626296, -3.00888118,\n",
    "       -2.98149939, -2.95411761, -2.92673582, -2.89935404, -2.87197225,\n",
    "       -2.84459046, -2.81720868, -2.78982689, -2.76244511, -2.73506332,\n",
    "       -2.70768154, -2.68029975, -2.65291797, -2.62553618, -2.5981544 ,\n",
    "       -2.57077261, -2.54339083, -2.51600904, -2.48862726, -2.46124547,\n",
    "       -2.43386369, -2.4064819 , -2.37910012, -2.35171833, -2.32433654,\n",
    "       -2.29695476])"
   ]
  },
  {
   "cell_type": "code",
   "execution_count": 67,
   "id": "2dca6b8e-f8a2-464e-ada7-42ecca3eb458",
   "metadata": {
    "execution": {
     "iopub.execute_input": "2021-08-18T21:43:12.203734Z",
     "iopub.status.busy": "2021-08-18T21:43:12.202962Z",
     "iopub.status.idle": "2021-08-18T21:43:12.568434Z",
     "shell.execute_reply": "2021-08-18T21:43:12.561865Z",
     "shell.execute_reply.started": "2021-08-18T21:43:12.203680Z"
    },
    "tags": []
   },
   "outputs": [
    {
     "data": {
      "text/plain": [
       "(array([1.000e+00, 0.000e+00, 0.000e+00, 0.000e+00, 0.000e+00, 0.000e+00,\n",
       "        0.000e+00, 0.000e+00, 0.000e+00, 0.000e+00, 0.000e+00, 0.000e+00,\n",
       "        0.000e+00, 0.000e+00, 0.000e+00, 0.000e+00, 0.000e+00, 0.000e+00,\n",
       "        0.000e+00, 0.000e+00, 0.000e+00, 0.000e+00, 1.000e+00, 0.000e+00,\n",
       "        0.000e+00, 0.000e+00, 0.000e+00, 0.000e+00, 0.000e+00, 0.000e+00,\n",
       "        0.000e+00, 1.000e+00, 2.000e+00, 1.000e+00, 0.000e+00, 5.000e+00,\n",
       "        1.800e+01, 1.646e+03, 7.400e+01, 6.000e+00]),\n",
       " array([-17.21367372, -16.83698123, -16.46028873, -16.08359624,\n",
       "        -15.70690375, -15.33021126, -14.95351877, -14.57682628,\n",
       "        -14.20013379, -13.8234413 , -13.44674881, -13.07005632,\n",
       "        -12.69336383, -12.31667134, -11.93997884, -11.56328635,\n",
       "        -11.18659386, -10.80990137, -10.43320888, -10.05651639,\n",
       "         -9.6798239 ,  -9.30313141,  -8.92643892,  -8.54974643,\n",
       "         -8.17305394,  -7.79636145,  -7.41966895,  -7.04297646,\n",
       "         -6.66628397,  -6.28959148,  -5.91289899,  -5.5362065 ,\n",
       "         -5.15951401,  -4.78282152,  -4.40612903,  -4.02943654,\n",
       "         -3.65274405,  -3.27605156,  -2.89935906,  -2.52266657,\n",
       "         -2.14597408]),\n",
       " [<matplotlib.patches.Polygon at 0x2aaaf0cb32e0>])"
      ]
     },
     "execution_count": 67,
     "metadata": {},
     "output_type": "execute_result"
    },
    {
     "data": {
      "image/png": "[encoded data removed]",
      "text/plain": [
       "<Figure size 720x576 with 1 Axes>"
      ]
     },
     "metadata": {
      "needs_background": "light"
     },
     "output_type": "display_data"
    }
   ],
   "source": [
    "plt.figure(figsize = (10,8))\n",
    "\n",
    "plt.hist(result_spass.x[0][mask_index],bins = 40,histtype=\"step\", lw = 2)\n",
    "plt.hist(result_cbass.x[0][mask_index],bins = 40,histtype=\"step\", lw = 2)\n",
    "plt.hist(result_both.x[0][mask_index],bins = 40,histtype=\"step\", lw = 2)"
   ]
  },
  {
   "cell_type": "code",
   "execution_count": 129,
   "id": "cad54b25-0e47-4dbc-9e06-c255e67a0965",
   "metadata": {
    "execution": {
     "iopub.execute_input": "2021-08-11T15:23:29.173526Z",
     "iopub.status.busy": "2021-08-11T15:23:29.173215Z",
     "iopub.status.idle": "2021-08-11T15:23:29.371022Z",
     "shell.execute_reply": "2021-08-11T15:23:29.370353Z",
     "shell.execute_reply.started": "2021-08-11T15:23:29.173498Z"
    },
    "tags": []
   },
   "outputs": [
    {
     "data": {
      "text/plain": [
       "Text(0.5, 1.0, 'Beta_s of overlapped region, using Fgbuster')"
      ]
     },
     "execution_count": 129,
     "metadata": {},
     "output_type": "execute_result"
    },
    {
     "data": {
      "image/png": "[encoded data removed]",
      "text/plain": [
       "<Figure size 720x576 with 1 Axes>"
      ]
     },
     "metadata": {
      "needs_background": "light"
     },
     "output_type": "display_data"
    }
   ],
   "source": [
    "plt.figure(figsize = (10,8))\n",
    "\n",
    "plt.hist(result_spass.x[0][mask_index],bins = bins,histtype=\"step\", lw = 2, label = 'spass_only', alpha = 0.5)\n",
    "plt.hist(result_cbass.x[0][mask_index],bins = bins,histtype=\"step\", lw = 2, label = 'cbass_only', alpha = 0.5)\n",
    "plt.hist(result_both.x[0][mask_index],bins = bins,histtype=\"step\", lw = 2, label = 'both')\n",
    "plt.legend(fontsize = 15)\n",
    "# plt.vlines(-3.0,  ymin = 0, ymax = 700, color = 'black')\n",
    "plt.title('Beta_s of overlapped region, using Fgbuster', fontsize = 15)"
   ]
  },
  {
   "cell_type": "markdown",
   "id": "d6da2982-1552-4490-9252-cc4997f96e1f",
   "metadata": {},
   "source": [
    "# comparision with Rician likelihood"
   ]
  },
  {
   "cell_type": "code",
   "execution_count": 82,
   "id": "3990f2e9-6690-421f-b213-b50c4070fa20",
   "metadata": {
    "execution": {
     "iopub.execute_input": "2021-08-11T14:30:45.685473Z",
     "iopub.status.busy": "2021-08-11T14:30:45.685176Z",
     "iopub.status.idle": "2021-08-11T14:30:45.905061Z",
     "shell.execute_reply": "2021-08-11T14:30:45.904348Z",
     "shell.execute_reply.started": "2021-08-11T14:30:45.685444Z"
    }
   },
   "outputs": [],
   "source": [
    "As_betas_both = np.load('/global/cscratch1/sd/jianyao/CBASS/Results/s0_only_homo_noise/Emcee_As_betas_masked_both_32_with_SPASS_CBASS_v3.npy')"
   ]
  },
  {
   "cell_type": "code",
   "execution_count": 96,
   "id": "df7fe08a-6182-462c-8a61-b90b5eccb3fb",
   "metadata": {
    "execution": {
     "iopub.execute_input": "2021-08-11T14:38:36.835977Z",
     "iopub.status.busy": "2021-08-11T14:38:36.835698Z",
     "iopub.status.idle": "2021-08-11T14:38:37.065015Z",
     "shell.execute_reply": "2021-08-11T14:38:37.063980Z",
     "shell.execute_reply.started": "2021-08-11T14:38:36.835948Z"
    },
    "tags": []
   },
   "outputs": [
    {
     "data": {
      "text/plain": [
       "<matplotlib.legend.Legend at 0x2aaaf7e39e20>"
      ]
     },
     "execution_count": 96,
     "metadata": {},
     "output_type": "execute_result"
    },
    {
     "data": {
      "image/png": "[encoded data removed]",
      "text/plain": [
       "<Figure size 720x576 with 1 Axes>"
      ]
     },
     "metadata": {
      "needs_background": "light"
     },
     "output_type": "display_data"
    }
   ],
   "source": [
    "plt.figure(figsize = (10,8))\n",
    "# plt.hist(As_betas_S[1],  bins = 40, histtype=\"step\", label = 'SPASS only', lw = 2, alpha = 0.5)\n",
    "\n",
    "# plt.hist(As_betas_C[1], bins = 40, histtype=\"step\" , label = 'CBASS only', lw = 2, alpha = 0.5)\n",
    "\n",
    "plt.hist(As_betas_both[1],  bins = 40, histtype=\"step\" , label = 'rice', lw = 2)\n",
    "plt.hist(result_both.x[0][mask_index],  bins = bins, histtype=\"step\", label = 'FG', lw = 2)\n",
    "plt.title('Beta_s of overlapped region, using both', fontsize = 15)\n",
    "plt.legend(fontsize = 15)"
   ]
  },
  {
   "cell_type": "code",
   "execution_count": null,
   "id": "d7f577e5-0d90-4690-8ad5-90135fa99663",
   "metadata": {},
   "outputs": [],
   "source": []
  }
 ],
 "metadata": {
  "kernelspec": {
   "display_name": "my3.8",
   "language": "python",
   "name": "my3.8"
  },
  "language_info": {
   "codemirror_mode": {
    "name": "ipython",
    "version": 3
   },
   "file_extension": ".py",
   "mimetype": "text/x-python",
   "name": "python",
   "nbconvert_exporter": "python",
   "pygments_lexer": "ipython3",
   "version": "3.8.10"
  }
 },
 "nbformat": 4,
 "nbformat_minor": 5
}
