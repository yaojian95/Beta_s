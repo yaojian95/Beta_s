{
 "cells": [
  {
   "cell_type": "code",
   "execution_count": 21,
   "id": "bee8ee42-f0d3-480a-8282-641badab3b88",
   "metadata": {
    "execution": {
     "iopub.execute_input": "2021-08-05T14:41:12.340276Z",
     "iopub.status.busy": "2021-08-05T14:41:12.340006Z",
     "iopub.status.idle": "2021-08-05T14:41:12.343336Z",
     "shell.execute_reply": "2021-08-05T14:41:12.342713Z",
     "shell.execute_reply.started": "2021-08-05T14:41:12.340249Z"
    },
    "tags": []
   },
   "outputs": [],
   "source": [
    "import sys\n",
    "sys.path.append('/global/u2/j/jianyao/PySM_public/')"
   ]
  },
  {
   "cell_type": "code",
   "execution_count": 22,
   "id": "2b218cf8-ff86-4058-800c-80bd7827ccdf",
   "metadata": {
    "execution": {
     "iopub.execute_input": "2021-08-05T14:41:13.463184Z",
     "iopub.status.busy": "2021-08-05T14:41:13.462818Z",
     "iopub.status.idle": "2021-08-05T14:41:13.503329Z",
     "shell.execute_reply": "2021-08-05T14:41:13.502609Z",
     "shell.execute_reply.started": "2021-08-05T14:41:13.463144Z"
    },
    "tags": []
   },
   "outputs": [],
   "source": [
    "from pysm.common import convert_units"
   ]
  },
  {
   "cell_type": "code",
   "execution_count": 1,
   "id": "66df2f60-a688-40f2-ac10-558aecc6b583",
   "metadata": {
    "execution": {
     "iopub.execute_input": "2021-08-05T14:30:19.139683Z",
     "iopub.status.busy": "2021-08-05T14:30:19.139447Z",
     "iopub.status.idle": "2021-08-05T14:30:24.287443Z",
     "shell.execute_reply": "2021-08-05T14:30:24.286268Z",
     "shell.execute_reply.started": "2021-08-05T14:30:19.139610Z"
    },
    "tags": []
   },
   "outputs": [],
   "source": [
    "import pysm3\n",
    "import pysm3.units as u\n",
    "from astropy.io import fits as fits\n",
    "import healpy as hp\n",
    "import numpy as np\n",
    "import matplotlib.pyplot as plt\n",
    "from scipy.stats.mstats import gmean\n",
    "\n",
    "%config Completer.use_jedi = False\n",
    "%matplotlib inline"
   ]
  },
  {
   "cell_type": "code",
   "execution_count": 2,
   "id": "d8a78057-68bb-41aa-acde-82fdb0f644fc",
   "metadata": {
    "execution": {
     "iopub.execute_input": "2021-08-05T14:30:27.021903Z",
     "iopub.status.busy": "2021-08-05T14:30:27.021432Z",
     "iopub.status.idle": "2021-08-05T14:30:27.025917Z",
     "shell.execute_reply": "2021-08-05T14:30:27.025249Z",
     "shell.execute_reply.started": "2021-08-05T14:30:27.021851Z"
    },
    "tags": []
   },
   "outputs": [],
   "source": [
    "import warnings\n",
    "warnings.filterwarnings(\"ignore\")"
   ]
  },
  {
   "cell_type": "markdown",
   "id": "3a0f9892-f4a8-41e3-bb75-91ec6fd52a4a",
   "metadata": {},
   "source": [
    "# Config"
   ]
  },
  {
   "cell_type": "code",
   "execution_count": 7,
   "id": "7fc78a9f-220d-46d2-90b8-5b3f75bdcb9b",
   "metadata": {
    "execution": {
     "iopub.execute_input": "2021-08-05T14:35:01.196681Z",
     "iopub.status.busy": "2021-08-05T14:35:01.196238Z",
     "iopub.status.idle": "2021-08-05T14:35:01.203677Z",
     "shell.execute_reply": "2021-08-05T14:35:01.202887Z",
     "shell.execute_reply.started": "2021-08-05T14:35:01.196634Z"
    },
    "tags": []
   },
   "outputs": [],
   "source": [
    "## SPASS CBASS WMAP K, Planck 30, WMAP Ka\n",
    "\n",
    "fres = np.array([2.3, 5, 23, 28.4, 33]); Nside = 32; \n",
    "\n",
    "nu0_both = gmean(fres)\n",
    "nu0_C = gmean([fres[1], fres[2], fres[3], fres[4]])\n",
    "nu0_S = gmean([fres[0], fres[2], fres[3], fres[4]])"
   ]
  },
  {
   "cell_type": "code",
   "execution_count": 8,
   "id": "48baf0e4-e953-4b42-8b95-fdda67a15431",
   "metadata": {
    "execution": {
     "iopub.execute_input": "2021-08-05T14:35:08.145660Z",
     "iopub.status.busy": "2021-08-05T14:35:08.145410Z",
     "iopub.status.idle": "2021-08-05T14:35:08.152351Z",
     "shell.execute_reply": "2021-08-05T14:35:08.151645Z",
     "shell.execute_reply.started": "2021-08-05T14:35:08.145634Z"
    }
   },
   "outputs": [
    {
     "data": {
      "text/plain": [
       "11.990894757722375"
      ]
     },
     "execution_count": 8,
     "metadata": {},
     "output_type": "execute_result"
    }
   ],
   "source": [
    "nu0_both"
   ]
  },
  {
   "cell_type": "code",
   "execution_count": 9,
   "id": "d72b8095-2551-4981-ac63-5612f66af8d5",
   "metadata": {
    "execution": {
     "iopub.execute_input": "2021-08-05T14:35:17.050392Z",
     "iopub.status.busy": "2021-08-05T14:35:17.049985Z",
     "iopub.status.idle": "2021-08-05T14:35:17.056525Z",
     "shell.execute_reply": "2021-08-05T14:35:17.055734Z",
     "shell.execute_reply.started": "2021-08-05T14:35:17.050348Z"
    }
   },
   "outputs": [
    {
     "data": {
      "text/plain": [
       "18.118929287030664"
      ]
     },
     "execution_count": 9,
     "metadata": {},
     "output_type": "execute_result"
    }
   ],
   "source": [
    "nu0_C"
   ]
  },
  {
   "cell_type": "code",
   "execution_count": 12,
   "id": "ce59becd-8b89-41bb-8004-7de090d39530",
   "metadata": {
    "execution": {
     "iopub.execute_input": "2021-08-05T14:35:32.500278Z",
     "iopub.status.busy": "2021-08-05T14:35:32.499851Z",
     "iopub.status.idle": "2021-08-05T14:35:32.505895Z",
     "shell.execute_reply": "2021-08-05T14:35:32.505013Z",
     "shell.execute_reply.started": "2021-08-05T14:35:32.500233Z"
    },
    "tags": []
   },
   "outputs": [
    {
     "data": {
      "text/plain": [
       "14.921826567453781"
      ]
     },
     "execution_count": 12,
     "metadata": {},
     "output_type": "execute_result"
    }
   ],
   "source": [
    "nu0_S"
   ]
  },
  {
   "cell_type": "markdown",
   "id": "f1483c45-bd90-4706-b422-6dde2cd1ee53",
   "metadata": {},
   "source": [
    "# Foregrounds"
   ]
  },
  {
   "cell_type": "markdown",
   "id": "e0ec556c-4c3c-4656-bf4b-7f693a05614a",
   "metadata": {},
   "source": [
    "## IQU at 5 fres"
   ]
  },
  {
   "cell_type": "markdown",
   "id": "abb9e02f-c6c7-4228-a213-e96b0606c3f4",
   "metadata": {},
   "source": [
    "https://github.com/galsci/pysm/blob/f36aeaef51e5d449fb0bf20b40e4270d6867e14f/pysm3/data/presets.cfg\n",
    "\n",
    "[s0]\n",
    "\n",
    "class = \"PowerLaw\"\n",
    "\n",
    "map_I = \"pysm_2/synch_t_new.fits\"\n",
    "\n",
    "map_Q = \"pysm_2/synch_q_new.fits\"\n",
    "\n",
    "map_U = \"pysm_2/synch_u_new.fits\"\n",
    "\n",
    "unit_I = \"uK_RJ\"\n",
    "\n",
    "unit_Q = \"uK_RJ\"\n",
    "\n",
    "unit_U = \"uK_RJ\"\n",
    "\n",
    "map_pl_index = -3\n",
    "\n",
    "freq_ref_I = \"408 MHz\"\n",
    "\n",
    "freq_ref_P = \"23 GHz\"\n"
   ]
  },
  {
   "cell_type": "code",
   "execution_count": 13,
   "id": "6e7b6479-114c-44b7-b802-26d2d92fed6d",
   "metadata": {
    "execution": {
     "iopub.execute_input": "2021-08-05T14:36:46.043555Z",
     "iopub.status.busy": "2021-08-05T14:36:46.043300Z",
     "iopub.status.idle": "2021-08-05T14:36:49.459002Z",
     "shell.execute_reply": "2021-08-05T14:36:49.458118Z",
     "shell.execute_reply.started": "2021-08-05T14:36:46.043528Z"
    },
    "tags": []
   },
   "outputs": [],
   "source": [
    "sky = pysm3.Sky(nside=Nside, preset_strings=[\"s0\"])\n",
    "maps_all = np.ones((len(fres), 3, 12*Nside**2)); maps_RJ = np.ones((len(fres), 3, 12*Nside**2))\n",
    "for i in range(len(fres)):\n",
    "    maps = sky.get_emission([fres[i]] * u.GHz)\n",
    "    maps_RJ[i] = maps\n",
    "#     maps_all[i] = maps.to(u.uK_CMB, equivalencies=u.cmb_equivalencies(fres[i]*u.GHz))"
   ]
  },
  {
   "cell_type": "code",
   "execution_count": 14,
   "id": "a77b0cdd-5c93-4ea8-b397-528e18bd7acb",
   "metadata": {
    "execution": {
     "iopub.execute_input": "2021-08-05T14:36:56.030187Z",
     "iopub.status.busy": "2021-08-05T14:36:56.029786Z",
     "iopub.status.idle": "2021-08-05T14:36:56.036251Z",
     "shell.execute_reply": "2021-08-05T14:36:56.035485Z",
     "shell.execute_reply.started": "2021-08-05T14:36:56.030147Z"
    }
   },
   "outputs": [
    {
     "data": {
      "text/plain": [
       "(5, 3, 12288)"
      ]
     },
     "execution_count": 14,
     "metadata": {},
     "output_type": "execute_result"
    }
   ],
   "source": [
    "maps_RJ.shape"
   ]
  },
  {
   "cell_type": "code",
   "execution_count": 15,
   "id": "10738030-8b57-403a-bfc9-9d41abf95cb2",
   "metadata": {
    "execution": {
     "iopub.execute_input": "2021-08-05T14:37:13.689816Z",
     "iopub.status.busy": "2021-08-05T14:37:13.689568Z",
     "iopub.status.idle": "2021-08-05T14:37:13.705668Z",
     "shell.execute_reply": "2021-08-05T14:37:13.703690Z",
     "shell.execute_reply.started": "2021-08-05T14:37:13.689791Z"
    },
    "tags": []
   },
   "outputs": [],
   "source": [
    "np.save('/global/cscratch1/sd/jianyao/CBASS/Foreground/5_fre_s0_%s_uK_RJ.npy'%Nside, maps_RJ)"
   ]
  },
  {
   "cell_type": "code",
   "execution_count": 18,
   "id": "e497bcd8-5d49-49ce-aef1-c7d693018b94",
   "metadata": {
    "execution": {
     "iopub.execute_input": "2021-08-05T14:39:23.855337Z",
     "iopub.status.busy": "2021-08-05T14:39:23.855069Z",
     "iopub.status.idle": "2021-08-05T14:39:23.903717Z",
     "shell.execute_reply": "2021-08-05T14:39:23.902991Z",
     "shell.execute_reply.started": "2021-08-05T14:39:23.855311Z"
    },
    "tags": []
   },
   "outputs": [],
   "source": [
    "IQU_0 = sky.get_emission([nu0_S] * u.GHz)\n",
    "\n",
    "P = np.sqrt(IQU_0[1]**2 + IQU_0[2]**2)\n",
    "np.save('/global/cscratch1/sd/jianyao/CBASS/Foreground/P_14.92_s0_%s_uK_RJ.npy'%Nside,np.array(P))"
   ]
  },
  {
   "cell_type": "code",
   "execution_count": null,
   "id": "125947c5-f012-4e8d-938f-ac4075e40e76",
   "metadata": {},
   "outputs": [],
   "source": []
  },
  {
   "cell_type": "markdown",
   "id": "74ebf6be-e150-4980-899c-5c25c94eb3f9",
   "metadata": {},
   "source": [
    "# Noise and mask"
   ]
  },
  {
   "cell_type": "code",
   "execution_count": 46,
   "id": "c58441e1-6258-4500-bc35-5e4f568bc171",
   "metadata": {
    "execution": {
     "iopub.execute_input": "2021-07-31T14:00:51.226358Z",
     "iopub.status.busy": "2021-07-31T14:00:51.225888Z",
     "iopub.status.idle": "2021-07-31T14:00:51.268802Z",
     "shell.execute_reply": "2021-07-31T14:00:51.267954Z",
     "shell.execute_reply.started": "2021-07-31T14:00:51.226316Z"
    }
   },
   "outputs": [],
   "source": [
    "spass_noise = fits.open('/global/cscratch1/sd/jianyao/CBASS/Noise/spass_dr1_1902_healpix_Tb_sens.fits', field = None, h = True)"
   ]
  },
  {
   "cell_type": "code",
   "execution_count": 47,
   "id": "e72cbc0a-825f-4b74-b318-9c788d681e6c",
   "metadata": {
    "execution": {
     "iopub.execute_input": "2021-07-31T14:00:52.214623Z",
     "iopub.status.busy": "2021-07-31T14:00:52.214367Z",
     "iopub.status.idle": "2021-07-31T14:00:52.256039Z",
     "shell.execute_reply": "2021-07-31T14:00:52.254936Z",
     "shell.execute_reply.started": "2021-07-31T14:00:52.214597Z"
    }
   },
   "outputs": [
    {
     "name": "stdout",
     "output_type": "stream",
     "text": [
      "Filename: //global/cscratch1/sd/jianyao/CBASS/Noise/spass_dr1_1902_healpix_Tb_sens.fits\n",
      "No.    Name      Ver    Type      Cards   Dimensions   Format\n",
      "  0  PRIMARY       1 PrimaryHDU       4   ()      \n",
      "  1                1 BinTableHDU     44   12288R x 1C   [1024E]   \n"
     ]
    }
   ],
   "source": [
    "spass_noise.info()"
   ]
  },
  {
   "cell_type": "code",
   "execution_count": 48,
   "id": "b19a64a8-2443-4599-83fa-e3154a210a94",
   "metadata": {
    "execution": {
     "iopub.execute_input": "2021-07-31T14:00:52.770715Z",
     "iopub.status.busy": "2021-07-31T14:00:52.770451Z",
     "iopub.status.idle": "2021-07-31T14:00:53.099212Z",
     "shell.execute_reply": "2021-07-31T14:00:53.098218Z",
     "shell.execute_reply.started": "2021-07-31T14:00:52.770689Z"
    }
   },
   "outputs": [],
   "source": [
    "spass_noise_map = hp.read_map(spass_noise)"
   ]
  },
  {
   "cell_type": "markdown",
   "id": "a57b5bf3-fe54-4bca-b273-3cf0ac5bad7f",
   "metadata": {},
   "source": [
    "## Mask"
   ]
  },
  {
   "cell_type": "code",
   "execution_count": 40,
   "id": "e59a8c56-2799-4b25-876f-d4e3dc990266",
   "metadata": {
    "execution": {
     "iopub.execute_input": "2021-07-31T13:58:49.982096Z",
     "iopub.status.busy": "2021-07-31T13:58:49.981801Z",
     "iopub.status.idle": "2021-07-31T13:58:49.987131Z",
     "shell.execute_reply": "2021-07-31T13:58:49.986516Z",
     "shell.execute_reply.started": "2021-07-31T13:58:49.982068Z"
    },
    "tags": []
   },
   "outputs": [],
   "source": [
    "cbass_mask_fits = fits.open('/global/cscratch1/sd/jianyao/CBASS/cbassN_mask.fits', h = True)## in equatorial, nside = 256"
   ]
  },
  {
   "cell_type": "code",
   "execution_count": 41,
   "id": "1ec75cad-ed73-45a1-932e-21adf1fc629f",
   "metadata": {
    "execution": {
     "iopub.execute_input": "2021-07-31T13:59:06.221395Z",
     "iopub.status.busy": "2021-07-31T13:59:06.221082Z",
     "iopub.status.idle": "2021-07-31T13:59:06.234513Z",
     "shell.execute_reply": "2021-07-31T13:59:06.233824Z",
     "shell.execute_reply.started": "2021-07-31T13:59:06.221366Z"
    },
    "tags": []
   },
   "outputs": [],
   "source": [
    "cbass_mask = hp.read_map(cbass_mask_fits) "
   ]
  },
  {
   "cell_type": "code",
   "execution_count": 59,
   "id": "741a88c1-8765-44ee-9075-72a5fb6972ba",
   "metadata": {
    "execution": {
     "iopub.execute_input": "2021-07-31T14:09:40.817763Z",
     "iopub.status.busy": "2021-07-31T14:09:40.817444Z",
     "iopub.status.idle": "2021-07-31T14:09:40.843248Z",
     "shell.execute_reply": "2021-07-31T14:09:40.842663Z",
     "shell.execute_reply.started": "2021-07-31T14:09:40.817738Z"
    },
    "tags": []
   },
   "outputs": [],
   "source": [
    "cbass_mask_32 = hp.ud_grade(cbass_mask, nside_out=Nside)"
   ]
  },
  {
   "cell_type": "code",
   "execution_count": 54,
   "id": "6709d1b0-526b-4670-b375-af513bdcf499",
   "metadata": {
    "execution": {
     "iopub.execute_input": "2021-07-31T14:05:21.519103Z",
     "iopub.status.busy": "2021-07-31T14:05:21.518840Z",
     "iopub.status.idle": "2021-07-31T14:05:21.523870Z",
     "shell.execute_reply": "2021-07-31T14:05:21.523246Z",
     "shell.execute_reply.started": "2021-07-31T14:05:21.519078Z"
    }
   },
   "outputs": [],
   "source": [
    "def change_coord(m, coord):\n",
    "    \n",
    "    # Basic HEALPix parameters\n",
    "    npix = m.shape[-1]\n",
    "    nside = hp.npix2nside(npix)\n",
    "    ang = hp.pix2ang(nside, np.arange(npix))\n",
    "\n",
    "    # Select the coordinate transformation\n",
    "    rot = hp.Rotator(coord=reversed(coord))\n",
    "\n",
    "    # Convert the coordinates\n",
    "    new_ang = rot(*ang)\n",
    "    new_pix = hp.ang2pix(nside, *new_ang)\n",
    "\n",
    "    return m[..., new_pix]"
   ]
  },
  {
   "cell_type": "code",
   "execution_count": 60,
   "id": "5fa61055-ba5d-4fda-91ea-afa002d4ff21",
   "metadata": {
    "execution": {
     "iopub.execute_input": "2021-07-31T14:10:22.879253Z",
     "iopub.status.busy": "2021-07-31T14:10:22.878983Z",
     "iopub.status.idle": "2021-07-31T14:10:22.891095Z",
     "shell.execute_reply": "2021-07-31T14:10:22.890488Z",
     "shell.execute_reply.started": "2021-07-31T14:10:22.879228Z"
    },
    "tags": []
   },
   "outputs": [],
   "source": [
    "cbass_mask_G = change_coord(cbass_mask_32,coord = ['C', 'G'])"
   ]
  },
  {
   "cell_type": "code",
   "execution_count": 63,
   "id": "dbbcec28-3d12-4697-9d0b-1cbebe008154",
   "metadata": {
    "execution": {
     "iopub.execute_input": "2021-07-31T14:11:33.633120Z",
     "iopub.status.busy": "2021-07-31T14:11:33.632783Z",
     "iopub.status.idle": "2021-07-31T14:11:33.877065Z",
     "shell.execute_reply": "2021-07-31T14:11:33.876496Z",
     "shell.execute_reply.started": "2021-07-31T14:11:33.633085Z"
    },
    "tags": []
   },
   "outputs": [
    {
     "data": {
      "image/png": "[encoded data removed]",
      "text/plain": [
       "<Figure size 612x388.8 with 2 Axes>"
      ]
     },
     "metadata": {
      "needs_background": "light"
     },
     "output_type": "display_data"
    }
   ],
   "source": [
    "hp.mollview(cbass_mask_G)"
   ]
  },
  {
   "cell_type": "code",
   "execution_count": 67,
   "id": "23f2b89d-bc18-4327-a7c2-dca62420d709",
   "metadata": {
    "execution": {
     "iopub.execute_input": "2021-07-31T14:24:14.495932Z",
     "iopub.status.busy": "2021-07-31T14:24:14.495456Z",
     "iopub.status.idle": "2021-07-31T14:24:15.235137Z",
     "shell.execute_reply": "2021-07-31T14:24:15.234202Z",
     "shell.execute_reply.started": "2021-07-31T14:24:14.495866Z"
    },
    "tags": []
   },
   "outputs": [],
   "source": [
    "spass_mask = np.ones(12*1024**2)\n",
    "spass_mask[np.where(spass_noise_map < 0)] = 0\n",
    "spass_mask = hp.ud_grade(spass_mask, nside_out = 32)"
   ]
  },
  {
   "cell_type": "code",
   "execution_count": 68,
   "id": "8691757b-65b0-4ec7-a115-0243052ec699",
   "metadata": {
    "execution": {
     "iopub.execute_input": "2021-07-31T14:24:20.134078Z",
     "iopub.status.busy": "2021-07-31T14:24:20.133742Z",
     "iopub.status.idle": "2021-07-31T14:24:20.370270Z",
     "shell.execute_reply": "2021-07-31T14:24:20.369604Z",
     "shell.execute_reply.started": "2021-07-31T14:24:20.134036Z"
    },
    "tags": []
   },
   "outputs": [
    {
     "data": {
      "image/png": "[encoded data removed]",
      "text/plain": [
       "<Figure size 612x388.8 with 2 Axes>"
      ]
     },
     "metadata": {
      "needs_background": "light"
     },
     "output_type": "display_data"
    }
   ],
   "source": [
    "hp.mollview(spass_mask)"
   ]
  },
  {
   "cell_type": "markdown",
   "id": "6a66a66a-8145-4c20-aa6d-c5d3b4d3a038",
   "metadata": {},
   "source": [
    "## overlapping region"
   ]
  },
  {
   "cell_type": "code",
   "execution_count": 77,
   "id": "eb9d4e97-239c-47d6-a7ed-38d0d757b7e6",
   "metadata": {
    "execution": {
     "iopub.execute_input": "2021-07-31T14:26:29.917540Z",
     "iopub.status.busy": "2021-07-31T14:26:29.917218Z",
     "iopub.status.idle": "2021-07-31T14:26:29.924100Z",
     "shell.execute_reply": "2021-07-31T14:26:29.923572Z",
     "shell.execute_reply.started": "2021-07-31T14:26:29.917513Z"
    },
    "tags": []
   },
   "outputs": [
    {
     "data": {
      "text/plain": [
       "0.12667528788248697"
      ]
     },
     "execution_count": 77,
     "metadata": {},
     "output_type": "execute_result"
    }
   ],
   "source": [
    "sum(spass_mask*cbass_mask_G)/(12*Nside**2)"
   ]
  },
  {
   "cell_type": "code",
   "execution_count": 80,
   "id": "dd1818cf-15f5-4843-801d-fe66589a36e1",
   "metadata": {
    "execution": {
     "iopub.execute_input": "2021-07-31T14:28:08.289859Z",
     "iopub.status.busy": "2021-07-31T14:28:08.289566Z",
     "iopub.status.idle": "2021-07-31T14:28:08.293020Z",
     "shell.execute_reply": "2021-07-31T14:28:08.292524Z",
     "shell.execute_reply.started": "2021-07-31T14:28:08.289834Z"
    },
    "tags": []
   },
   "outputs": [],
   "source": [
    "mask_both = spass_mask*cbass_mask_G\n",
    "mask_both[mask_both != 0] = 1"
   ]
  },
  {
   "cell_type": "code",
   "execution_count": 82,
   "id": "df34300b-d09b-4d2b-a6ec-c2f8ccffd549",
   "metadata": {
    "execution": {
     "iopub.execute_input": "2021-07-31T14:28:24.196731Z",
     "iopub.status.busy": "2021-07-31T14:28:24.196427Z",
     "iopub.status.idle": "2021-07-31T14:28:24.202999Z",
     "shell.execute_reply": "2021-07-31T14:28:24.202482Z",
     "shell.execute_reply.started": "2021-07-31T14:28:24.196705Z"
    }
   },
   "outputs": [
    {
     "data": {
      "text/plain": [
       "1755.0"
      ]
     },
     "execution_count": 82,
     "metadata": {},
     "output_type": "execute_result"
    }
   ],
   "source": [
    "sum(mask_both)"
   ]
  },
  {
   "cell_type": "code",
   "execution_count": 81,
   "id": "7fa6bd29-0dcc-4b1b-918d-c3cc11f1d890",
   "metadata": {
    "execution": {
     "iopub.execute_input": "2021-07-31T14:28:09.822067Z",
     "iopub.status.busy": "2021-07-31T14:28:09.821830Z",
     "iopub.status.idle": "2021-07-31T14:28:10.057496Z",
     "shell.execute_reply": "2021-07-31T14:28:10.056887Z",
     "shell.execute_reply.started": "2021-07-31T14:28:09.822044Z"
    },
    "tags": []
   },
   "outputs": [
    {
     "data": {
      "image/png": "[encoded data removed]",
      "text/plain": [
       "<Figure size 612x388.8 with 2 Axes>"
      ]
     },
     "metadata": {
      "needs_background": "light"
     },
     "output_type": "display_data"
    }
   ],
   "source": [
    "hp.mollview(mask_both)"
   ]
  },
  {
   "cell_type": "code",
   "execution_count": 83,
   "id": "f3aa24d0-b7c4-4e65-92e3-77bb0c3a4c11",
   "metadata": {
    "execution": {
     "iopub.execute_input": "2021-07-31T14:30:04.638243Z",
     "iopub.status.busy": "2021-07-31T14:30:04.637976Z",
     "iopub.status.idle": "2021-07-31T14:30:04.644310Z",
     "shell.execute_reply": "2021-07-31T14:30:04.643481Z",
     "shell.execute_reply.started": "2021-07-31T14:30:04.638217Z"
    },
    "tags": []
   },
   "outputs": [],
   "source": [
    "np.save('/global/cscratch1/sd/jianyao/CBASS/mask_both_32.npy', mask_both)"
   ]
  },
  {
   "cell_type": "code",
   "execution_count": 86,
   "id": "e6720a2c-7339-468c-98aa-ce8b73869976",
   "metadata": {
    "execution": {
     "iopub.execute_input": "2021-07-31T14:32:32.966320Z",
     "iopub.status.busy": "2021-07-31T14:32:32.966039Z",
     "iopub.status.idle": "2021-07-31T14:32:32.969804Z",
     "shell.execute_reply": "2021-07-31T14:32:32.969195Z",
     "shell.execute_reply.started": "2021-07-31T14:32:32.966294Z"
    },
    "tags": []
   },
   "outputs": [],
   "source": [
    "index = np.arange(12*Nside**2)\n",
    "masked_index = index[mask_both == 1]"
   ]
  },
  {
   "cell_type": "code",
   "execution_count": 87,
   "id": "c8311be2-05b4-4792-b0ad-c670da4bc346",
   "metadata": {
    "execution": {
     "iopub.execute_input": "2021-07-31T14:33:36.912944Z",
     "iopub.status.busy": "2021-07-31T14:33:36.912606Z",
     "iopub.status.idle": "2021-07-31T14:33:37.025704Z",
     "shell.execute_reply": "2021-07-31T14:33:37.024826Z",
     "shell.execute_reply.started": "2021-07-31T14:33:36.912911Z"
    }
   },
   "outputs": [],
   "source": [
    "np.save('/global/cscratch1/sd/jianyao/CBASS/masked_index.npy', masked_index)"
   ]
  },
  {
   "cell_type": "code",
   "execution_count": 94,
   "id": "5dd5c34d-6ef2-4442-84e0-138a77161290",
   "metadata": {
    "execution": {
     "iopub.execute_input": "2021-07-31T14:42:11.612717Z",
     "iopub.status.busy": "2021-07-31T14:42:11.612295Z",
     "iopub.status.idle": "2021-07-31T14:42:11.618914Z",
     "shell.execute_reply": "2021-07-31T14:42:11.618007Z",
     "shell.execute_reply.started": "2021-07-31T14:42:11.612675Z"
    },
    "tags": []
   },
   "outputs": [
    {
     "data": {
      "text/plain": [
       "array([  744,   745,   746, ..., 12154, 12155, 12156])"
      ]
     },
     "execution_count": 94,
     "metadata": {},
     "output_type": "execute_result"
    }
   ],
   "source": [
    "masked_index"
   ]
  },
  {
   "cell_type": "code",
   "execution_count": 97,
   "id": "2059866b-e6d3-43d7-893f-5ab5ee286fc2",
   "metadata": {
    "execution": {
     "iopub.execute_input": "2021-07-31T14:43:41.603034Z",
     "iopub.status.busy": "2021-07-31T14:43:41.602773Z",
     "iopub.status.idle": "2021-07-31T14:43:41.607830Z",
     "shell.execute_reply": "2021-07-31T14:43:41.607148Z",
     "shell.execute_reply.started": "2021-07-31T14:43:41.603009Z"
    },
    "tags": []
   },
   "outputs": [
    {
     "data": {
      "text/plain": [
       "1755"
      ]
     },
     "execution_count": 97,
     "metadata": {},
     "output_type": "execute_result"
    }
   ],
   "source": [
    "len(masked_index)"
   ]
  },
  {
   "cell_type": "markdown",
   "id": "5e752038-a659-447f-be4f-1bc63a14e0c5",
   "metadata": {},
   "source": [
    "## Typical sensitivity for SPASS CBASS K Ka 30 in $\\mu K \\_ RJ$"
   ]
  },
  {
   "cell_type": "markdown",
   "id": "9ec39f95-2c13-48e9-98cb-0fcec367093a",
   "metadata": {},
   "source": [
    "- SPASS 0.815 mk - 8.9arcmin -- 92 uK arcmin ; QU\n",
    "- CBASS 0.30mk - 1 deg -- 5 $\\mu K\\_RJ$ arcmin; I\n",
    "- WMAP K 7.7 uK - 1 deg -- 0.128 uK_RJ arcmin; I\n",
    "- Planck 30 1.1 uk - 1deg -- 0.018 uK_RJ arcmin; I "
   ]
  },
  {
   "cell_type": "markdown",
   "id": "1887669f-cbb7-4c5f-bf0f-04bffc5eb317",
   "metadata": {},
   "source": [
    "- S-PASS sensitivity in uK_thermo amin: 8070\n",
    "- C-BASS sensitivity in uK_thermo amin: 4500\n",
    "- WMAP-K sensitivity in uK_thermo amin: 435\n",
    "- WMAP-Ka sensitivity in uK_thermo amin: 436\n",
    "- Planck-30 sensitivity in uK_termo amin: 276"
   ]
  },
  {
   "cell_type": "code",
   "execution_count": 19,
   "id": "ed52cf41-8ee6-4bb9-a113-7a13609783a0",
   "metadata": {
    "execution": {
     "iopub.execute_input": "2021-08-05T14:40:37.044514Z",
     "iopub.status.busy": "2021-08-05T14:40:37.044208Z",
     "iopub.status.idle": "2021-08-05T14:40:37.049296Z",
     "shell.execute_reply": "2021-08-05T14:40:37.048749Z",
     "shell.execute_reply.started": "2021-08-05T14:40:37.044488Z"
    }
   },
   "outputs": [
    {
     "data": {
      "text/plain": [
       "array([ 2.3,  5. , 23. , 28.4, 33. ])"
      ]
     },
     "execution_count": 19,
     "metadata": {},
     "output_type": "execute_result"
    }
   ],
   "source": [
    "fres"
   ]
  },
  {
   "cell_type": "code",
   "execution_count": 20,
   "id": "aade8a9d-bf9d-465e-a9d6-217ce5952bdf",
   "metadata": {
    "execution": {
     "iopub.execute_input": "2021-08-05T14:40:52.706859Z",
     "iopub.status.busy": "2021-08-05T14:40:52.706412Z",
     "iopub.status.idle": "2021-08-05T14:40:52.711075Z",
     "shell.execute_reply": "2021-08-05T14:40:52.710323Z",
     "shell.execute_reply.started": "2021-08-05T14:40:52.706814Z"
    },
    "tags": []
   },
   "outputs": [],
   "source": [
    "## from sigma_I to sigma_Q and sigma_U\n",
    "# Sens_P = np.array((92, 5*np.sqrt(2), 0.128*np.sqrt(2), 0.128*np.sqrt(2), 0.018*np.sqrt(2)))\n",
    "\n",
    "Sens_P_CMB = np.array((8070, 4500, 435, 276, 436))"
   ]
  },
  {
   "cell_type": "markdown",
   "id": "8e6941e6-7731-4a76-9198-8e347b374539",
   "metadata": {},
   "source": [
    "## transform form $\\mu K \\_ CMB$ to $\\mu K \\_RJ$"
   ]
  },
  {
   "cell_type": "code",
   "execution_count": 23,
   "id": "aeaaafdd-8996-4dee-b9e7-548f95b40fe3",
   "metadata": {
    "execution": {
     "iopub.execute_input": "2021-08-05T14:41:25.173008Z",
     "iopub.status.busy": "2021-08-05T14:41:25.172727Z",
     "iopub.status.idle": "2021-08-05T14:41:25.176360Z",
     "shell.execute_reply": "2021-08-05T14:41:25.175790Z",
     "shell.execute_reply.started": "2021-08-05T14:41:25.172982Z"
    },
    "tags": []
   },
   "outputs": [],
   "source": [
    "Sens_P_RJ = Sens_P_CMB*convert_units(\"uK_CMB\", \"uK_RJ\", fres)"
   ]
  },
  {
   "cell_type": "code",
   "execution_count": 24,
   "id": "73152f0e-ec52-430e-93f3-de213cffb425",
   "metadata": {
    "execution": {
     "iopub.execute_input": "2021-08-05T14:41:26.103175Z",
     "iopub.status.busy": "2021-08-05T14:41:26.102879Z",
     "iopub.status.idle": "2021-08-05T14:41:26.107848Z",
     "shell.execute_reply": "2021-08-05T14:41:26.107260Z",
     "shell.execute_reply.started": "2021-08-05T14:41:26.103147Z"
    },
    "tags": []
   },
   "outputs": [
    {
     "data": {
      "text/plain": [
       "array([8068.89702552, 4497.09426442,  429.10255891,  270.31923344,\n",
       "        423.93603191])"
      ]
     },
     "execution_count": 24,
     "metadata": {},
     "output_type": "execute_result"
    }
   ],
   "source": [
    "Sens_P_RJ"
   ]
  },
  {
   "cell_type": "markdown",
   "id": "a4d89237-e821-4f17-9f44-4936fd49b772",
   "metadata": {},
   "source": [
    "## $\\sigma$ map in CMB units for Q and U"
   ]
  },
  {
   "cell_type": "code",
   "execution_count": 25,
   "id": "1ded78e6-85d6-4d0d-a7b0-7796d06b6433",
   "metadata": {
    "execution": {
     "iopub.execute_input": "2021-08-05T14:41:37.477012Z",
     "iopub.status.busy": "2021-08-05T14:41:37.476748Z",
     "iopub.status.idle": "2021-08-05T14:41:37.480664Z",
     "shell.execute_reply": "2021-08-05T14:41:37.480114Z",
     "shell.execute_reply.started": "2021-08-05T14:41:37.476986Z"
    },
    "tags": []
   },
   "outputs": [],
   "source": [
    "npix = 12*Nside**2\n",
    "pix_amin2 = 4. * np.pi / float(npix) * (180. * 60. / np.pi) ** 2 \n",
    "sigma_pix_P = np.sqrt(Sens_P_RJ ** 2 / pix_amin2)\n",
    "sigma_pix_I = sigma_pix_P"
   ]
  },
  {
   "cell_type": "code",
   "execution_count": 26,
   "id": "19779687-134f-4dca-9ce7-f8310d27f29e",
   "metadata": {
    "execution": {
     "iopub.execute_input": "2021-08-05T14:41:40.043528Z",
     "iopub.status.busy": "2021-08-05T14:41:40.043252Z",
     "iopub.status.idle": "2021-08-05T14:41:40.047719Z",
     "shell.execute_reply": "2021-08-05T14:41:40.047178Z",
     "shell.execute_reply.started": "2021-08-05T14:41:40.043501Z"
    },
    "tags": []
   },
   "outputs": [
    {
     "data": {
      "text/plain": [
       "array([73.39660293, 40.90663706,  3.90321875,  2.45888792,  3.85622279])"
      ]
     },
     "execution_count": 26,
     "metadata": {},
     "output_type": "execute_result"
    }
   ],
   "source": [
    "sigma_pix_P"
   ]
  },
  {
   "cell_type": "markdown",
   "id": "af77f541-8351-4acd-853e-f17b82c92947",
   "metadata": {},
   "source": [
    "### Assume $\\sigma_P = \\sigma_Q = \\sigma_U ???? $Would this be wrong?"
   ]
  },
  {
   "cell_type": "code",
   "execution_count": 27,
   "id": "9ad28360-be74-4ac0-aa15-48bc5ef4488a",
   "metadata": {
    "execution": {
     "iopub.execute_input": "2021-08-05T14:42:42.112908Z",
     "iopub.status.busy": "2021-08-05T14:42:42.112637Z",
     "iopub.status.idle": "2021-08-05T14:42:42.116329Z",
     "shell.execute_reply": "2021-08-05T14:42:42.115713Z",
     "shell.execute_reply.started": "2021-08-05T14:42:42.112882Z"
    },
    "tags": []
   },
   "outputs": [],
   "source": [
    "sig_maps = np.ones((len(Sens_P_RJ),npix))\n",
    "sig_maps *= sigma_pix_P[:, None]"
   ]
  },
  {
   "cell_type": "code",
   "execution_count": 28,
   "id": "c1525111-a902-4c70-96e1-243cda0afb23",
   "metadata": {
    "execution": {
     "iopub.execute_input": "2021-08-05T14:42:43.365964Z",
     "iopub.status.busy": "2021-08-05T14:42:43.365694Z",
     "iopub.status.idle": "2021-08-05T14:42:43.370380Z",
     "shell.execute_reply": "2021-08-05T14:42:43.369833Z",
     "shell.execute_reply.started": "2021-08-05T14:42:43.365938Z"
    },
    "tags": []
   },
   "outputs": [
    {
     "data": {
      "text/plain": [
       "array([[73.39660293, 73.39660293, 73.39660293, ..., 73.39660293,\n",
       "        73.39660293, 73.39660293],\n",
       "       [40.90663706, 40.90663706, 40.90663706, ..., 40.90663706,\n",
       "        40.90663706, 40.90663706],\n",
       "       [ 3.90321875,  3.90321875,  3.90321875, ...,  3.90321875,\n",
       "         3.90321875,  3.90321875],\n",
       "       [ 2.45888792,  2.45888792,  2.45888792, ...,  2.45888792,\n",
       "         2.45888792,  2.45888792],\n",
       "       [ 3.85622279,  3.85622279,  3.85622279, ...,  3.85622279,\n",
       "         3.85622279,  3.85622279]])"
      ]
     },
     "execution_count": 28,
     "metadata": {},
     "output_type": "execute_result"
    }
   ],
   "source": [
    "sig_maps"
   ]
  },
  {
   "cell_type": "code",
   "execution_count": 29,
   "id": "bdeca9e8-1124-4a1a-b532-853d2b3491ec",
   "metadata": {
    "execution": {
     "iopub.execute_input": "2021-08-05T14:42:55.268445Z",
     "iopub.status.busy": "2021-08-05T14:42:55.268148Z",
     "iopub.status.idle": "2021-08-05T14:42:55.273500Z",
     "shell.execute_reply": "2021-08-05T14:42:55.272875Z",
     "shell.execute_reply.started": "2021-08-05T14:42:55.268417Z"
    },
    "tags": []
   },
   "outputs": [],
   "source": [
    "np.save('/global/cscratch1/sd/jianyao/CBASS/Noise/homo_noise/5_fre_sigma_P_%s_uK_RJ.npy'%Nside, sig_maps)"
   ]
  },
  {
   "cell_type": "markdown",
   "id": "357adcae-0a0a-4f7d-a4eb-8a7dbe2b51b8",
   "metadata": {},
   "source": [
    "## from $\\sigma$ to pixel realizations, add noise to signal and get $P = \\sqrt{Q^2 + U^2}$"
   ]
  },
  {
   "cell_type": "code",
   "execution_count": 54,
   "id": "2a1f5363-6f67-4656-be16-4fae38eb38a2",
   "metadata": {},
   "outputs": [
    {
     "name": "stdout",
     "output_type": "stream",
     "text": [
      "5_fre_noise_010.npy\n"
     ]
    }
   ],
   "source": [
    "print('5_fre_noise_%03d.npy'%10)"
   ]
  },
  {
   "cell_type": "code",
   "execution_count": 30,
   "id": "5bd67f20-d447-46e5-a5a0-a5c6766a89a1",
   "metadata": {
    "execution": {
     "iopub.execute_input": "2021-08-05T14:43:26.007745Z",
     "iopub.status.busy": "2021-08-05T14:43:26.007482Z",
     "iopub.status.idle": "2021-08-05T14:43:26.234154Z",
     "shell.execute_reply": "2021-08-05T14:43:26.233456Z",
     "shell.execute_reply.started": "2021-08-05T14:43:26.007719Z"
    },
    "tags": []
   },
   "outputs": [],
   "source": [
    "Nsamp = 100\n",
    "\n",
    "for i in range(10):\n",
    "    noise = np.random.randn(len(Sens_P_RJ), 3, npix)\n",
    "    noise[:, 0, :] *= sigma_pix_I[:, None]\n",
    "    noise[:, 1, :] *= sigma_pix_P[:, None]\n",
    "    noise[:, 2, :] *= sigma_pix_P[:, None]\n",
    "    np.save('/global/cscratch1/sd/jianyao/CBASS/Noise/homo_noise/5_fre_noise_%s_uK_RJ_%03d.npy'%(Nside, i), noise)\n",
    "    \n",
    "    total = maps_RJ + noise  ## add noise realization to signals (only synchrontron)\n",
    "    total_QU = np.ones((len(fres), 12*Nside**2))\n",
    "    for fre in range(len(fres)):\n",
    "\n",
    "        total_QU[fre] = np.sqrt((total[fre][1])**2 + (total[fre][2])**2) \n",
    "        np.save('/global/cscratch1/sd/jianyao/CBASS/Observations/homo_noise/totalP_s0_%s_uK_RJ_%03d.npy'%(Nside,i), total_QU)\n",
    "    "
   ]
  },
  {
   "cell_type": "code",
   "execution_count": 31,
   "id": "cd1651b5-22e9-4fe2-8cca-3ce38658c694",
   "metadata": {
    "execution": {
     "iopub.execute_input": "2021-08-05T14:46:47.238889Z",
     "iopub.status.busy": "2021-08-05T14:46:47.238586Z",
     "iopub.status.idle": "2021-08-05T14:46:47.241848Z",
     "shell.execute_reply": "2021-08-05T14:46:47.241222Z",
     "shell.execute_reply.started": "2021-08-05T14:46:47.238863Z"
    }
   },
   "outputs": [],
   "source": [
    "# plt.figure(figsize = (10,8))\n",
    "# hp.mollview(noise[0][1], sub = (3,4,1))\n",
    "# hp.mollview(noise[0][2], sub = (3,4,2))\n",
    "\n",
    "# hp.mollview(noise[1][1], sub = (3,4,3))\n",
    "# hp.mollview(noise[1][2], sub = (3,4,4))\n",
    "\n",
    "# hp.mollview(noise[2][1], sub = (3,4,5))\n",
    "# hp.mollview(noise[2][2], sub = (3,4,6))\n",
    "\n",
    "# hp.mollview(noise[3][1], sub = (3,4,7))\n",
    "# hp.mollview(noise[3][2], sub = (3,4,8))\n",
    "\n",
    "# hp.mollview(noise[4][1], sub = (3,4,9))\n",
    "# hp.mollview(noise[4][2], sub = (3,4,10))"
   ]
  },
  {
   "cell_type": "code",
   "execution_count": 28,
   "id": "3cea1cf9-f421-4411-a079-48fcd261b6d8",
   "metadata": {},
   "outputs": [],
   "source": []
  },
  {
   "cell_type": "markdown",
   "id": "6c64e1e5-f44d-4a94-bccd-646f3aeb9c0f",
   "metadata": {},
   "source": [
    "# Power spectrum of noise and signal"
   ]
  },
  {
   "cell_type": "code",
   "execution_count": 4,
   "id": "a654d50f-5c2d-4fa1-8193-207874ebe487",
   "metadata": {},
   "outputs": [],
   "source": [
    "noise_CMB = np.load('/global/cscratch1/sd/jianyao/CBASS/Noise/homo_noise/5_fre_noise_000.npy')\n",
    "signal = np.load('/global/cscratch1/sd/jianyao/CBASS/Foreground/5_fre_d0s0_128_uK_CMB.npy') # synchrotron + dust"
   ]
  },
  {
   "cell_type": "code",
   "execution_count": 5,
   "id": "06923467-3aff-46d3-b775-8d3d7c262d1e",
   "metadata": {},
   "outputs": [
    {
     "data": {
      "text/plain": [
       "(5, 3, 196608)"
      ]
     },
     "execution_count": 5,
     "metadata": {},
     "output_type": "execute_result"
    }
   ],
   "source": [
    "noise_CMB.shape"
   ]
  },
  {
   "cell_type": "code",
   "execution_count": 6,
   "id": "ae33801a-6401-458c-8240-0b46c0b18700",
   "metadata": {},
   "outputs": [
    {
     "data": {
      "text/plain": [
       "(5, 3, 196608)"
      ]
     },
     "execution_count": 6,
     "metadata": {},
     "output_type": "execute_result"
    }
   ],
   "source": [
    "signal.shape"
   ]
  },
  {
   "cell_type": "code",
   "execution_count": 7,
   "id": "515f7c49-a562-450a-82c9-f7b9c31f7a7d",
   "metadata": {},
   "outputs": [],
   "source": [
    "nl = hp.anafast(noise_CMB[0])\n",
    "cl = hp.anafast(signal[0])"
   ]
  },
  {
   "cell_type": "code",
   "execution_count": null,
   "id": "342ba6ba-948a-405d-b6ca-ad0d72ccd7f8",
   "metadata": {},
   "outputs": [],
   "source": [
    "ell = np.arange(len(nl))"
   ]
  }
 ],
 "metadata": {
  "kernelspec": {
   "display_name": "my3.8",
   "language": "python",
   "name": "my3.8"
  },
  "language_info": {
   "codemirror_mode": {
    "name": "ipython",
    "version": 3
   },
   "file_extension": ".py",
   "mimetype": "text/x-python",
   "name": "python",
   "nbconvert_exporter": "python",
   "pygments_lexer": "ipython3",
   "version": "3.8.10"
  },
  "toc-autonumbering": true
 },
 "nbformat": 4,
 "nbformat_minor": 5
}
